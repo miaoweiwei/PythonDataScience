{
 "cells": [
  {
   "cell_type": "markdown",
   "metadata": {},
   "source": [
    "# Python数据科学速查表 - Bokeh"
   ]
  },
  {
   "cell_type": "markdown",
   "metadata": {},
   "source": [
    "## 使用 Bokeh 绘图\n",
    "\n",
    "Bokeh 是 Python 的交互式可视图库，用于生成在浏览器里显\n",
    "示的大规模数据集高性能可视图。\n",
    "Bokeh 的中间层通用 bokeh.plotting 界面主要为两个组件：\n",
    "数据与图示符。\n",
    "使用 bokeh.plotting 界面绘图的基本步骤为：\n",
    "1. 准备数据 Python列表、Numpy数组、Pandas数据框或其它序列值\n",
    "2. 创建图形\n",
    "3. 为数据添加渲染器，自定义可视化图\n",
    "4. 指定生成的输出类型\n",
    "5. 显示视图或保存结果"
   ]
  },
  {
   "cell_type": "code",
   "execution_count": null,
   "metadata": {},
   "outputs": [],
   "source": [
    "from bokeh.plotting import figure\n",
    "from bokeh.io import output_file, show\n",
    "def show_figure(*args):\n",
    "    output_file(\"temp_figure.html\")# 如果注释掉这一句则会生成临时文件\n",
    "    for g in args:\n",
    "        show(g)"
   ]
  },
  {
   "cell_type": "code",
   "execution_count": null,
   "metadata": {},
   "outputs": [],
   "source": [
    "x = [1, 2, 3, 4, 5]\n",
    "y = [6, 7, 2, 4, 5]\n",
    "\n",
    "p = figure(title=\"simple line example\",\n",
    "x_axis_label='x',\n",
    "y_axis_label='y')\n",
    "\n",
    "p.line(x, y, legend=\"Temp.\", line_width=2)\n",
    "\n",
    "# output_file(\"lines.html\") # 如果注释掉这一句则会生成临时文件\n",
    "show_figure(p)"
   ]
  },
  {
   "cell_type": "markdown",
   "metadata": {},
   "source": [
    "## 1、数据 参阅列表、Numpy 及 Pandas\n",
    "通常，Bokeh在后台把数据转换为列数据源，不过也可手动转换："
   ]
  },
  {
   "cell_type": "code",
   "execution_count": null,
   "metadata": {},
   "outputs": [],
   "source": [
    "import numpy as np\n",
    "import pandas as pd\n",
    "from bokeh.models import ColumnDataSource\n",
    "\n",
    "df = pd.DataFrame(np.array([[33.9,4,65,'US'],\n",
    "                           [32.4,4,66,'Asia'],\n",
    "                           [21.4,4,109,'Europe']]),\n",
    "                 columns=['mpg','cyl','hp','origin'],\n",
    "                 index=['Toyota','Fiat','Volvo'])\n",
    "\n",
    "cds_df = ColumnDataSource(df)\n",
    "cds_df"
   ]
  },
  {
   "cell_type": "markdown",
   "metadata": {},
   "source": [
    "## 2、绘图"
   ]
  },
  {
   "cell_type": "code",
   "execution_count": null,
   "metadata": {},
   "outputs": [],
   "source": [
    "from bokeh.plotting import figure\n",
    "\n",
    "p1=figure(plot_width=300,tools='pan,box_zoom')\n",
    "p2=figure(plot_width=300,plot_height=300,x_range=(0,8),y_range=(0,87))\n",
    "p3=figure()\n",
    "\n",
    "# show_figure(p1,p2,p3)"
   ]
  },
  {
   "cell_type": "markdown",
   "metadata": {},
   "source": [
    "## 3、渲染器与自定义可视化"
   ]
  },
  {
   "cell_type": "markdown",
   "metadata": {},
   "source": [
    "### 图示符"
   ]
  },
  {
   "cell_type": "code",
   "execution_count": null,
   "metadata": {},
   "outputs": [],
   "source": [
    "# 散点标记\n",
    "p1.circle(np.array([1,2,3]),np.array([3,2,1]),fill_color='white')\n",
    "p2.square(np.array([1.5,3.5,5.5]), [1,4,3])\n",
    "\n",
    "#线型图示符\n",
    "p1.line([1,2,3,4], [3,4,5,6], line_width=2)\n",
    "p2.multi_line(pd.DataFrame([[1,2,3],[5,6,7]]),pd.DataFrame([[3,4,5],[3,2,1]]),color=\"blue\")"
   ]
  },
  {
   "cell_type": "markdown",
   "metadata": {},
   "source": [
    "### 自定义图示符-参阅 数据"
   ]
  },
  {
   "cell_type": "code",
   "execution_count": null,
   "metadata": {},
   "outputs": [],
   "source": [
    "# 图示符选择与反选\n",
    "p4 = figure(tools='box_select')\n",
    "p4.circle('mpg', 'cyl', source=cds_df,selection_color='red',nonselection_alpha=0.1)\n",
    "\n",
    "# 绘图区内部\n",
    "from bokeh.models import HoverTool\n",
    "hover= HoverTool(tooltips=None,mode='vline')\n",
    "# p3.add_tools(hover)\n",
    "# show(p3)\n",
    "\n",
    "# 色彩表\n",
    "from bokeh.models import CategoricalColorMapper\n",
    "color_mapper = CategoricalColorMapper(factors=['US','Asia','Europe'],\n",
    "                                     palette=['blue','red','green'])\n",
    "p3.circle('mpg','cyl',source=cds_df,color=dict(field='origin',\n",
    "                                              transform=color_mapper),\n",
    "         legend='origin')\n",
    "show_figure(p3)"
   ]
  },
  {
   "cell_type": "markdown",
   "metadata": {},
   "source": [
    "### 图例位置"
   ]
  },
  {
   "cell_type": "code",
   "execution_count": null,
   "metadata": {},
   "outputs": [],
   "source": [
    "# # 绘图区内部\n",
    "# p.legend.location='bottom_left'\n",
    "\n",
    "# # 绘图区外部\n",
    "# from bokeh.models import Legend\n",
    "# p4=figure()\n",
    "# r1 = p4.asterisk(np.array([1,2,3]), np.array([3,2,1]))\n",
    "# r2 = p4.line([1,2,3,4], [3,4,5,6])\n",
    "# legend = Legend(items=[(\"One\" ,[r1]),(\"Two\",[r2])],location=(0,-30))\n",
    "# p.add_layout(legend, 'right')\n",
    "# show_figure(p)"
   ]
  },
  {
   "cell_type": "markdown",
   "metadata": {},
   "source": [
    "### 图例方向"
   ]
  },
  {
   "cell_type": "code",
   "execution_count": null,
   "metadata": {},
   "outputs": [],
   "source": [
    "# p.legend.orientation = \"horizontal\"\n",
    "\n",
    "p.legend.orientation = \"vertical\"\n",
    "show_figure(p)"
   ]
  },
  {
   "cell_type": "markdown",
   "metadata": {},
   "source": [
    "### 图例背景与边框"
   ]
  },
  {
   "cell_type": "code",
   "execution_count": null,
   "metadata": {},
   "outputs": [],
   "source": [
    "p.legend.border_line_color = \"black\" # 图例的边框\n",
    "p.legend.background_fill_color=\"white\" #图例的背景\n",
    "show_figure(p)"
   ]
  },
  {
   "cell_type": "markdown",
   "metadata": {},
   "source": [
    "### 行列布局"
   ]
  },
  {
   "cell_type": "code",
   "execution_count": null,
   "metadata": {},
   "outputs": [],
   "source": [
    "# 行\n",
    "from bokeh.layouts import row\n",
    "layout = row(p1,p2,p3)\n",
    "\n",
    "# 列\n",
    "from bokeh.layouts import column\n",
    "layout = column(p1,p2,p3)\n",
    "\n",
    "# 行列嵌套\n",
    "layout = row(column(p1,p2), p3)"
   ]
  },
  {
   "cell_type": "markdown",
   "metadata": {},
   "source": [
    "### 栅格布局"
   ]
  },
  {
   "cell_type": "code",
   "execution_count": null,
   "metadata": {},
   "outputs": [],
   "source": [
    "from bokeh.layouts import gridplot\n",
    "row1 = [p1,p2]\n",
    "row2 = [p3]\n",
    "layout = gridplot([[p1,p2],[p3]])"
   ]
  },
  {
   "cell_type": "markdown",
   "metadata": {},
   "source": [
    "### 标签布局"
   ]
  },
  {
   "cell_type": "code",
   "execution_count": null,
   "metadata": {},
   "outputs": [],
   "source": [
    "from bokeh.models.widgets import Panel,Tabs\n",
    "tab1=Panel(child=p1,title=\"tab1\")\n",
    "tab2=Panel(child=p2,title=\"tab2\")\n",
    "layout=Tabs(tabs=[tab1,tab2])"
   ]
  },
  {
   "cell_type": "markdown",
   "metadata": {},
   "source": [
    "### 链接图"
   ]
  },
  {
   "cell_type": "code",
   "execution_count": null,
   "metadata": {},
   "outputs": [],
   "source": [
    "# 连接坐标轴\n",
    "p2.x_range=p1.x_range\n",
    "# p2.y_range=p1.y_range\n",
    "\n",
    "# 连接刷\n",
    "p4 = figure(plot_width = 100,tools='box_select,lasso_select')\n",
    "p4.circle('mpg', 'cyl', source=cds_df)\n",
    "p5 = figure(plot_width = 200,tools='box_select,lasso_select')\n",
    "p5.circle('mpg', 'hp', source=cds_df)\n",
    "layout = row(p4,p5)\n",
    "# show_figure(p5)"
   ]
  },
  {
   "cell_type": "markdown",
   "metadata": {},
   "source": [
    "## 4、输出与导出"
   ]
  },
  {
   "cell_type": "markdown",
   "metadata": {},
   "source": [
    "### Notebook"
   ]
  },
  {
   "cell_type": "code",
   "execution_count": null,
   "metadata": {},
   "outputs": [],
   "source": [
    "from bokeh.io import output_notebook, show\n",
    "output_notebook()"
   ]
  },
  {
   "cell_type": "markdown",
   "metadata": {},
   "source": [
    "### HTML"
   ]
  },
  {
   "cell_type": "code",
   "execution_count": null,
   "metadata": {},
   "outputs": [],
   "source": [
    "# 脱机HTML\n",
    "from bokeh.embed import file_html\n",
    "from bokeh.resources import CDN\n",
    "html = file_html(p, CDN, \"my_plot\")"
   ]
  },
  {
   "cell_type": "code",
   "execution_count": null,
   "metadata": {},
   "outputs": [],
   "source": [
    "from bokeh.io import output_file, show\n",
    "output_file('my_bar_chart.html', mode='cdn')"
   ]
  },
  {
   "cell_type": "code",
   "execution_count": null,
   "metadata": {},
   "outputs": [],
   "source": [
    "# 组件\n",
    "from bokeh.embed import components\n",
    "script, div = components(p)"
   ]
  },
  {
   "cell_type": "markdown",
   "metadata": {},
   "source": [
    "### PNG"
   ]
  },
  {
   "cell_type": "code",
   "execution_count": null,
   "metadata": {},
   "outputs": [],
   "source": [
    "from bokeh.io import export_png\n",
    "export_png(p, filename=\"plot.png\")"
   ]
  },
  {
   "cell_type": "markdown",
   "metadata": {},
   "source": [
    "### SVG"
   ]
  },
  {
   "cell_type": "code",
   "execution_count": null,
   "metadata": {},
   "outputs": [],
   "source": [
    "from bokeh.io import export_svgs\n",
    "p.output_backend = \"svg\"\n",
    "export_svgs(p, filename=\"plot.svg\")"
   ]
  },
  {
   "cell_type": "markdown",
   "metadata": {},
   "source": [
    "## 5、显示或保存图形"
   ]
  },
  {
   "cell_type": "code",
   "execution_count": null,
   "metadata": {},
   "outputs": [],
   "source": [
    "# show(p1)\n",
    "# save(p1)\n",
    "\n",
    "show(layout)\n",
    "# save(layout)"
   ]
  },
  {
   "cell_type": "code",
   "execution_count": null,
   "metadata": {},
   "outputs": [],
   "source": []
  }
 ],
 "metadata": {
  "kernelspec": {
   "display_name": "Tf-Gpu",
   "language": "python",
   "name": "tfgpu"
  },
  "language_info": {
   "codemirror_mode": {
    "name": "ipython",
    "version": 3
   },
   "file_extension": ".py",
   "mimetype": "text/x-python",
   "name": "python",
   "nbconvert_exporter": "python",
   "pygments_lexer": "ipython3",
   "version": "3.6.8"
  }
 },
 "nbformat": 4,
 "nbformat_minor": 2
}
